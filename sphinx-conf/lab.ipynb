{
 "cells": [
  {
   "cell_type": "code",
   "execution_count": 1,
   "metadata": {},
   "outputs": [],
   "source": [
    "import xml"
   ]
  },
  {
   "cell_type": "code",
   "execution_count": 2,
   "metadata": {},
   "outputs": [],
   "source": [
    "import xml.etree.ElementTree\n",
    "\n",
    "\n",
    "document  = xml.etree.ElementTree.parse(\"../docs/xml/classavx_1_1_char256.xml\")"
   ]
  },
  {
   "cell_type": "code",
   "execution_count": 22,
   "metadata": {},
   "outputs": [],
   "source": [
    "ALL_KINDS = ['public-type','private-attrib','public-static-attrib','private-static-func','public-func','friend']\n",
    "EXPORTED = ['public-func','friend']\n",
    "\n",
    "root = document.getroot()\n",
    "sections = [element for element in root.findall('./compounddef/sectiondef') if element.attrib['kind'] in EXPORTED]"
   ]
  },
  {
   "cell_type": "code",
   "execution_count": 33,
   "metadata": {},
   "outputs": [
    {
     "data": {
      "text/plain": [
       "'avx::Char256::Char256'"
      ]
     },
     "execution_count": 33,
     "metadata": {},
     "output_type": "execute_result"
    }
   ],
   "source": [
    "sections[0].findall(\"memberdef\")[0]"
   ]
  },
  {
   "cell_type": "code",
   "execution_count": 67,
   "metadata": {},
   "outputs": [],
   "source": [
    "def getFunctionPrototype(section:xml.etree.ElementTree.Element):\n",
    "    functions = section.findall(\"memberdef\")   \n",
    "     \n",
    "    prototypes = [\n",
    "        {\n",
    "            'name': prototype.find('definition').text,\n",
    "            'arguments': prototype.find('argsstring').text\n",
    "        }\n",
    "        for prototype in functions\n",
    "    ]\n",
    "    \n",
    "    for prototype in prototypes:\n",
    "        prototype['name'] = prototype['name'][prototype['name'].find('avx::'):]\n",
    "        prototype['arguments'] = prototype['arguments'][0:prototype['arguments'].find(')') + 1]\n",
    "    \n",
    "    return prototypes"
   ]
  },
  {
   "cell_type": "code",
   "execution_count": 73,
   "metadata": {},
   "outputs": [],
   "source": [
    "functionProtos = getFunctionPrototype(sections[1])"
   ]
  },
  {
   "cell_type": "code",
   "execution_count": 70,
   "metadata": {},
   "outputs": [
    {
     "data": {
      "text/plain": [
       "{'name': 'avx::Char256::save', 'arguments': '(char *dest)'}"
      ]
     },
     "execution_count": 70,
     "metadata": {},
     "output_type": "execute_result"
    }
   ],
   "source": [
    "functionProtos[10]"
   ]
  },
  {
   "cell_type": "code",
   "execution_count": 74,
   "metadata": {},
   "outputs": [
    {
     "name": "stdout",
     "output_type": "stream",
     "text": [
      ".. doxygenfunction:: <(std::ostream &os, const Char256 &a)\n",
      "    :project: AVX_CPP\n"
     ]
    }
   ],
   "source": [
    "for function in functionProtos:\n",
    "    print(f\"\"\".. doxygenfunction:: {function['name']}{function['arguments'] if len(function['arguments']) > 2 else ''}\n",
    "    :project: AVX_CPP\"\"\"\n",
    "    )"
   ]
  }
 ],
 "metadata": {
  "kernelspec": {
   "display_name": "SPHINX",
   "language": "python",
   "name": "python3"
  },
  "language_info": {
   "codemirror_mode": {
    "name": "ipython",
    "version": 3
   },
   "file_extension": ".py",
   "mimetype": "text/x-python",
   "name": "python",
   "nbconvert_exporter": "python",
   "pygments_lexer": "ipython3",
   "version": "3.13.1"
  }
 },
 "nbformat": 4,
 "nbformat_minor": 2
}
